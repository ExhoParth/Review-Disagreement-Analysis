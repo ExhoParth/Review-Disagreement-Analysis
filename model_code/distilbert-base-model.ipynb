{
 "cells": [
  {
   "cell_type": "code",
   "execution_count": 1,
   "metadata": {
    "_cell_guid": "b1076dfc-b9ad-4769-8c92-a6c4dae69d19",
    "_uuid": "8f2839f25d086af736a60e9eeb907d3b93b6e0e5",
    "execution": {
     "iopub.execute_input": "2024-12-02T12:00:23.742218Z",
     "iopub.status.busy": "2024-12-02T12:00:23.741576Z",
     "iopub.status.idle": "2024-12-02T12:00:24.070660Z",
     "shell.execute_reply": "2024-12-02T12:00:24.069701Z",
     "shell.execute_reply.started": "2024-12-02T12:00:23.742183Z"
    },
    "trusted": true
   },
   "outputs": [
    {
     "name": "stdout",
     "output_type": "stream",
     "text": [
      "/kaggle/input/dt_pairs/pytorch/default/1/final_model.pth\n",
      "/kaggle/input/test-review-pairs/review_pairs_dataset.csv\n",
      "/kaggle/input/review-pairs-dataset/dnnlp_project_dataset.csv\n"
     ]
    }
   ],
   "source": [
    "# This Python 3 environment comes with many helpful analytics libraries installed\n",
    "# It is defined by the kaggle/python Docker image: https://github.com/kaggle/docker-python\n",
    "# For example, here's several helpful packages to load\n",
    "\n",
    "import numpy as np # linear algebra\n",
    "import pandas as pd # data processing, CSV file I/O (e.g. pd.read_csv)\n",
    "\n",
    "# Input data files are available in the read-only \"../input/\" directory\n",
    "# For example, running this (by clicking run or pressing Shift+Enter) will list all files under the input directory\n",
    "\n",
    "import os\n",
    "for dirname, _, filenames in os.walk('/kaggle/input'):\n",
    "    for filename in filenames:\n",
    "        print(os.path.join(dirname, filename))\n",
    "\n",
    "# You can write up to 20GB to the current directory (/kaggle/working/) that gets preserved as output when you create a version using \"Save & Run All\" \n",
    "# You can also write temporary files to /kaggle/temp/, but they won't be saved outside of the current session"
   ]
  },
  {
   "cell_type": "code",
   "execution_count": 2,
   "metadata": {
    "execution": {
     "iopub.execute_input": "2024-12-02T12:00:24.072272Z",
     "iopub.status.busy": "2024-12-02T12:00:24.071932Z",
     "iopub.status.idle": "2024-12-02T12:00:28.193591Z",
     "shell.execute_reply": "2024-12-02T12:00:28.192818Z",
     "shell.execute_reply.started": "2024-12-02T12:00:24.072239Z"
    },
    "trusted": true
   },
   "outputs": [],
   "source": [
    "import torch\n",
    "import torch.nn as nn\n",
    "from transformers import AutoTokenizer, AutoModel\n",
    "import numpy as np\n",
    "from torch.utils.data import Dataset, DataLoader"
   ]
  },
  {
   "cell_type": "code",
   "execution_count": 3,
   "metadata": {
    "execution": {
     "iopub.execute_input": "2024-12-02T12:00:28.195411Z",
     "iopub.status.busy": "2024-12-02T12:00:28.194978Z",
     "iopub.status.idle": "2024-12-02T12:00:28.199567Z",
     "shell.execute_reply": "2024-12-02T12:00:28.198578Z",
     "shell.execute_reply.started": "2024-12-02T12:00:28.195381Z"
    },
    "trusted": true
   },
   "outputs": [],
   "source": [
    "torch.cuda.empty_cache()"
   ]
  },
  {
   "cell_type": "code",
   "execution_count": 4,
   "metadata": {
    "execution": {
     "iopub.execute_input": "2024-12-02T12:00:28.200949Z",
     "iopub.status.busy": "2024-12-02T12:00:28.200689Z",
     "iopub.status.idle": "2024-12-02T12:00:28.267810Z",
     "shell.execute_reply": "2024-12-02T12:00:28.266993Z",
     "shell.execute_reply.started": "2024-12-02T12:00:28.200923Z"
    },
    "trusted": true
   },
   "outputs": [
    {
     "data": {
      "text/plain": [
       "device(type='cuda')"
      ]
     },
     "execution_count": 4,
     "metadata": {},
     "output_type": "execute_result"
    }
   ],
   "source": [
    "device = torch.device(\"cuda\" if torch.cuda.is_available() else \"cpu\")\n",
    "device"
   ]
  },
  {
   "cell_type": "code",
   "execution_count": 14,
   "metadata": {
    "execution": {
     "iopub.execute_input": "2024-12-02T12:02:08.708827Z",
     "iopub.status.busy": "2024-12-02T12:02:08.708129Z",
     "iopub.status.idle": "2024-12-02T12:02:08.720669Z",
     "shell.execute_reply": "2024-12-02T12:02:08.719672Z",
     "shell.execute_reply.started": "2024-12-02T12:02:08.708791Z"
    },
    "trusted": true
   },
   "outputs": [],
   "source": [
    "import torch\n",
    "import torch.nn as nn\n",
    "from transformers import AutoModel\n",
    "\n",
    "class CrossEncoderCSR(nn.Module):\n",
    "    def __init__(self, model_name):\n",
    "        super(CrossEncoderCSR, self).__init__()\n",
    "        # Initialize encoder\n",
    "        self.encoder = AutoModel.from_pretrained(model_name)\n",
    "        self.encoder_config = self.encoder.config\n",
    "\n",
    "        # Check for layer access compatibility\n",
    "        if hasattr(self.encoder, \"encoder\"):  # For BERT and similar models\n",
    "            self.layers = self.encoder.encoder.layer\n",
    "        elif hasattr(self.encoder, \"transformer\"):  # For DistilBERT\n",
    "            self.layers = self.encoder.transformer.layer\n",
    "        else:\n",
    "            raise AttributeError(\"The model type is not supported for layer extraction.\")\n",
    "        \n",
    "        self.total_layers = len(self.layers)\n",
    "        self.d_k = self.encoder_config.hidden_size\n",
    "\n",
    "    def forward(self, s1_input_ids, s1_attention_mask, s2_input_ids, s2_attention_mask, c_input_ids, c_attention_mask):\n",
    "        device = s1_input_ids.device\n",
    "        \n",
    "        # Encode context\n",
    "        c_output = self.encoder(c_input_ids, attention_mask=c_attention_mask, output_hidden_states=True)\n",
    "        c_hidden_state = c_output.last_hidden_state  # Shape: (B, L_c, H)\n",
    "\n",
    "        # Obtain query vector for the condition (last hidden state pooled)\n",
    "        q_c = c_hidden_state[:, 0, :]  # Use [CLS] token as the query vector (B, H)\n",
    "\n",
    "        # Start with token embeddings for s1 and s2\n",
    "        s1_hidden_state = self.encoder.embeddings(s1_input_ids).to(device)\n",
    "        s2_hidden_state = self.encoder.embeddings(s2_input_ids).to(device)\n",
    "\n",
    "        # Preprocess attention masks\n",
    "        s1_extended_mask = self._get_extended_attention_mask(s1_attention_mask, s1_input_ids.size(), device)\n",
    "        s2_extended_mask = self._get_extended_attention_mask(s2_attention_mask, s2_input_ids.size(), device)\n",
    "\n",
    "        # Process up to the t-th layer\n",
    "        for i, layer in enumerate(self.layers):\n",
    "            s1_hidden_state = layer(s1_hidden_state, s1_extended_mask)[0]\n",
    "            s2_hidden_state = layer(s2_hidden_state, s2_extended_mask)[0]\n",
    "\n",
    "            if i >= self.total_layers // 2:  # Introduce router from t-th layer onwards\n",
    "                k_s1 = s1_hidden_state\n",
    "                k_s2 = s2_hidden_state\n",
    "\n",
    "                # Compute router weights\n",
    "                s1_w_t = self.get_c_router_weights(q_c, k_s1)\n",
    "                s2_w_t = self.get_c_router_weights(q_c, k_s2)\n",
    "\n",
    "                # Adjust multi-head attention hidden state\n",
    "                s1_hidden_state = (1 + s1_w_t.unsqueeze(-1)) * s1_hidden_state\n",
    "                s2_hidden_state = (1 + s2_w_t.unsqueeze(-1)) * s2_hidden_state\n",
    "\n",
    "        # Average pooling for final sentence representation\n",
    "        s1_representation = s1_hidden_state.mean(dim=1)  # Shape: (B, H)\n",
    "        s2_representation = s2_hidden_state.mean(dim=1)  # Shape: (B, H)\n",
    "\n",
    "        return s1_representation, s2_representation\n",
    "\n",
    "    def get_c_router_weights(self, q_c, k_s):\n",
    "        q_c = q_c.unsqueeze(1)  # Shape: (B, 1, H)\n",
    "        scores = torch.matmul(q_c, k_s.transpose(-2, -1))  # Shape: (B, 1, L_s)\n",
    "        scores = scores / torch.sqrt(torch.tensor(self.d_k, dtype=torch.float32).to(q_c.device))  # Scale scores\n",
    "        weights = nn.functional.softmax(scores, dim=-1)  # Shape: (B, 1, L_s)\n",
    "        return weights.squeeze(1)  # Shape: (B, L_s)\n",
    "\n",
    "    def _get_extended_attention_mask(self, attention_mask, input_shape, device):\n",
    "        \"\"\"\n",
    "        Prepare the attention mask for use in transformer layers.\n",
    "        \"\"\"\n",
    "        extended_attention_mask = attention_mask[:, None, None, :]  # (B, 1, 1, L)\n",
    "        extended_attention_mask = (1.0 - extended_attention_mask) * -10000.0  # Invert and scale\n",
    "        return extended_attention_mask.to(device)\n"
   ]
  },
  {
   "cell_type": "code",
   "execution_count": 15,
   "metadata": {
    "execution": {
     "iopub.execute_input": "2024-12-02T12:02:09.923523Z",
     "iopub.status.busy": "2024-12-02T12:02:09.923111Z",
     "iopub.status.idle": "2024-12-02T12:02:10.098734Z",
     "shell.execute_reply": "2024-12-02T12:02:10.097752Z",
     "shell.execute_reply.started": "2024-12-02T12:02:09.923485Z"
    },
    "trusted": true
   },
   "outputs": [
    {
     "name": "stderr",
     "output_type": "stream",
     "text": [
      "/opt/conda/lib/python3.10/site-packages/transformers/tokenization_utils_base.py:1617: FutureWarning: `clean_up_tokenization_spaces` was not set. It will be set to `True` by default. This behavior will be deprecated in transformers v4.45, and will be then set to `False` by default. For more details check this issue: https://github.com/huggingface/transformers/issues/31884\n",
      "  warnings.warn(\n"
     ]
    }
   ],
   "source": [
    "# Tokenizer initialization\n",
    "model_name = \"distilbert-base-cased\"\n",
    "tokenizer = AutoTokenizer.from_pretrained(model_name)\n",
    "\n",
    "# Custom Dataset class\n",
    "class ContradictionDataset(Dataset):\n",
    "    def __init__(self, data, tokenizer, max_length=128):\n",
    "        self.data = data\n",
    "        self.tokenizer = tokenizer\n",
    "        self.max_length = max_length\n",
    "\n",
    "    def __len__(self):\n",
    "        return len(self.data)\n",
    "\n",
    "    def __getitem__(self, idx):\n",
    "        row = self.data.iloc[idx]\n",
    "        s1, s2, aspect, label = row['sentence1'], row['sentence2'], row['aspect'], row['label']\n",
    "\n",
    "        # Tokenize inputs\n",
    "        s1_tokens = self.tokenizer(s1, truncation=True, padding=\"max_length\", max_length=self.max_length, return_tensors=\"pt\").to(\"cuda\")\n",
    "        s2_tokens = self.tokenizer(s2, truncation=True, padding=\"max_length\", max_length=self.max_length, return_tensors=\"pt\").to(\"cuda\")\n",
    "        aspect_tokens = self.tokenizer(aspect, truncation=True, padding=\"max_length\", max_length=self.max_length, return_tensors=\"pt\").to(\"cuda\")\n",
    "\n",
    "        # Map label to binary value\n",
    "        label = 1 if label == \"c\" else 0\n",
    "\n",
    "        return {\n",
    "            \"s1_input_ids\": s1_tokens[\"input_ids\"].squeeze(0),\n",
    "            \"s1_attention_mask\": s1_tokens[\"attention_mask\"].squeeze(0),\n",
    "            \"s2_input_ids\": s2_tokens[\"input_ids\"].squeeze(0),\n",
    "            \"s2_attention_mask\": s2_tokens[\"attention_mask\"].squeeze(0),\n",
    "            \"aspect_input_ids\": aspect_tokens[\"input_ids\"].squeeze(0),\n",
    "            \"aspect_attention_mask\": aspect_tokens[\"attention_mask\"].squeeze(0),\n",
    "            \"label\": torch.tensor(label, dtype=torch.long),\n",
    "        }\n"
   ]
  },
  {
   "cell_type": "code",
   "execution_count": 16,
   "metadata": {
    "execution": {
     "iopub.execute_input": "2024-12-02T12:02:10.339938Z",
     "iopub.status.busy": "2024-12-02T12:02:10.339677Z",
     "iopub.status.idle": "2024-12-02T12:02:10.553282Z",
     "shell.execute_reply": "2024-12-02T12:02:10.552388Z",
     "shell.execute_reply.started": "2024-12-02T12:02:10.339914Z"
    },
    "trusted": true
   },
   "outputs": [
    {
     "data": {
      "text/html": [
       "<div>\n",
       "<style scoped>\n",
       "    .dataframe tbody tr th:only-of-type {\n",
       "        vertical-align: middle;\n",
       "    }\n",
       "\n",
       "    .dataframe tbody tr th {\n",
       "        vertical-align: top;\n",
       "    }\n",
       "\n",
       "    .dataframe thead th {\n",
       "        text-align: right;\n",
       "    }\n",
       "</style>\n",
       "<table border=\"1\" class=\"dataframe\">\n",
       "  <thead>\n",
       "    <tr style=\"text-align: right;\">\n",
       "      <th></th>\n",
       "      <th>Unnamed: 0.1</th>\n",
       "      <th>Unnamed: 0</th>\n",
       "      <th>paper_id</th>\n",
       "      <th>pair_id</th>\n",
       "      <th>hypothesis</th>\n",
       "      <th>premise</th>\n",
       "      <th>aspect</th>\n",
       "      <th>s1</th>\n",
       "      <th>s2</th>\n",
       "      <th>line_pair</th>\n",
       "      <th>label</th>\n",
       "    </tr>\n",
       "  </thead>\n",
       "  <tbody>\n",
       "    <tr>\n",
       "      <th>0</th>\n",
       "      <td>0</td>\n",
       "      <td>0</td>\n",
       "      <td>ICLR_2019_1401</td>\n",
       "      <td>3</td>\n",
       "      <td>further the paper makes several misleading cla...</td>\n",
       "      <td>the paper is rather well written but it strong...</td>\n",
       "      <td>clarity</td>\n",
       "      <td>positive</td>\n",
       "      <td>negative</td>\n",
       "      <td>(6, 2)</td>\n",
       "      <td>n</td>\n",
       "    </tr>\n",
       "    <tr>\n",
       "      <th>1</th>\n",
       "      <td>1</td>\n",
       "      <td>1</td>\n",
       "      <td>NIPS_2016_89</td>\n",
       "      <td>3</td>\n",
       "      <td>4 .i like the key idea and the speedup is very...</td>\n",
       "      <td>review scores reflect this reviewers impressio...</td>\n",
       "      <td>originality</td>\n",
       "      <td>negative</td>\n",
       "      <td>positive</td>\n",
       "      <td>(5, 20)</td>\n",
       "      <td>n</td>\n",
       "    </tr>\n",
       "    <tr>\n",
       "      <th>2</th>\n",
       "      <td>2</td>\n",
       "      <td>2</td>\n",
       "      <td>NIPS_2016_89</td>\n",
       "      <td>4</td>\n",
       "      <td>the idea to use sampling is nice but the analy...</td>\n",
       "      <td>review scores reflect this reviewers impressio...</td>\n",
       "      <td>originality</td>\n",
       "      <td>negative</td>\n",
       "      <td>positive</td>\n",
       "      <td>(5, 18)</td>\n",
       "      <td>n</td>\n",
       "    </tr>\n",
       "    <tr>\n",
       "      <th>3</th>\n",
       "      <td>3</td>\n",
       "      <td>3</td>\n",
       "      <td>NIPS_2016_89</td>\n",
       "      <td>5</td>\n",
       "      <td>to summarize i think this paper give some empi...</td>\n",
       "      <td>in my opinion the overall quality of the paper...</td>\n",
       "      <td>soundness</td>\n",
       "      <td>positive</td>\n",
       "      <td>negative</td>\n",
       "      <td>(4, 10)</td>\n",
       "      <td>n</td>\n",
       "    </tr>\n",
       "    <tr>\n",
       "      <th>4</th>\n",
       "      <td>4</td>\n",
       "      <td>4</td>\n",
       "      <td>NIPS_2016_89</td>\n",
       "      <td>5</td>\n",
       "      <td>to summarize i think this paper give some empi...</td>\n",
       "      <td>the context and relevance as well as the contr...</td>\n",
       "      <td>soundness</td>\n",
       "      <td>positive</td>\n",
       "      <td>negative</td>\n",
       "      <td>(5, 10)</td>\n",
       "      <td>n</td>\n",
       "    </tr>\n",
       "  </tbody>\n",
       "</table>\n",
       "</div>"
      ],
      "text/plain": [
       "   Unnamed: 0.1  Unnamed: 0        paper_id  pair_id  \\\n",
       "0             0           0  ICLR_2019_1401        3   \n",
       "1             1           1    NIPS_2016_89        3   \n",
       "2             2           2    NIPS_2016_89        4   \n",
       "3             3           3    NIPS_2016_89        5   \n",
       "4             4           4    NIPS_2016_89        5   \n",
       "\n",
       "                                          hypothesis  \\\n",
       "0  further the paper makes several misleading cla...   \n",
       "1  4 .i like the key idea and the speedup is very...   \n",
       "2  the idea to use sampling is nice but the analy...   \n",
       "3  to summarize i think this paper give some empi...   \n",
       "4  to summarize i think this paper give some empi...   \n",
       "\n",
       "                                             premise       aspect        s1  \\\n",
       "0  the paper is rather well written but it strong...      clarity  positive   \n",
       "1  review scores reflect this reviewers impressio...  originality  negative   \n",
       "2  review scores reflect this reviewers impressio...  originality  negative   \n",
       "3  in my opinion the overall quality of the paper...    soundness  positive   \n",
       "4  the context and relevance as well as the contr...    soundness  positive   \n",
       "\n",
       "         s2 line_pair label  \n",
       "0  negative    (6, 2)     n  \n",
       "1  positive   (5, 20)     n  \n",
       "2  positive   (5, 18)     n  \n",
       "3  negative   (4, 10)     n  \n",
       "4  negative   (5, 10)     n  "
      ]
     },
     "execution_count": 16,
     "metadata": {},
     "output_type": "execute_result"
    }
   ],
   "source": [
    "df = pd.read_csv(\"/kaggle/input/review-pairs-dataset/dnnlp_project_dataset.csv\")\n",
    "df.head()"
   ]
  },
  {
   "cell_type": "code",
   "execution_count": 17,
   "metadata": {
    "execution": {
     "iopub.execute_input": "2024-12-02T12:02:10.554833Z",
     "iopub.status.busy": "2024-12-02T12:02:10.554538Z",
     "iopub.status.idle": "2024-12-02T12:02:10.560545Z",
     "shell.execute_reply": "2024-12-02T12:02:10.559617Z",
     "shell.execute_reply.started": "2024-12-02T12:02:10.554807Z"
    },
    "trusted": true
   },
   "outputs": [
    {
     "data": {
      "text/plain": [
       "Index(['Unnamed: 0.1', 'Unnamed: 0', 'paper_id', 'pair_id', 'hypothesis',\n",
       "       'premise', 'aspect', 's1', 's2', 'line_pair', 'label'],\n",
       "      dtype='object')"
      ]
     },
     "execution_count": 17,
     "metadata": {},
     "output_type": "execute_result"
    }
   ],
   "source": [
    "df.columns"
   ]
  },
  {
   "cell_type": "code",
   "execution_count": 18,
   "metadata": {
    "execution": {
     "iopub.execute_input": "2024-12-02T12:02:10.643758Z",
     "iopub.status.busy": "2024-12-02T12:02:10.643089Z",
     "iopub.status.idle": "2024-12-02T12:02:10.650812Z",
     "shell.execute_reply": "2024-12-02T12:02:10.649775Z",
     "shell.execute_reply.started": "2024-12-02T12:02:10.643720Z"
    },
    "trusted": true
   },
   "outputs": [
    {
     "name": "stderr",
     "output_type": "stream",
     "text": [
      "/tmp/ipykernel_30/190843048.py:2: SettingWithCopyWarning: \n",
      "A value is trying to be set on a copy of a slice from a DataFrame\n",
      "\n",
      "See the caveats in the documentation: https://pandas.pydata.org/pandas-docs/stable/user_guide/indexing.html#returning-a-view-versus-a-copy\n",
      "  final_df.rename(columns={'hypothesis': 'sentence1', 'premise': 'sentence2'}, inplace=True)\n"
     ]
    }
   ],
   "source": [
    "final_df = df[['hypothesis', 'premise', 'aspect', 'label']]\n",
    "final_df.rename(columns={'hypothesis': 'sentence1', 'premise': 'sentence2'}, inplace=True)"
   ]
  },
  {
   "cell_type": "code",
   "execution_count": 19,
   "metadata": {
    "execution": {
     "iopub.execute_input": "2024-12-02T12:02:10.745907Z",
     "iopub.status.busy": "2024-12-02T12:02:10.745441Z",
     "iopub.status.idle": "2024-12-02T12:02:10.754347Z",
     "shell.execute_reply": "2024-12-02T12:02:10.753471Z",
     "shell.execute_reply.started": "2024-12-02T12:02:10.745879Z"
    },
    "trusted": true
   },
   "outputs": [
    {
     "data": {
      "text/html": [
       "<div>\n",
       "<style scoped>\n",
       "    .dataframe tbody tr th:only-of-type {\n",
       "        vertical-align: middle;\n",
       "    }\n",
       "\n",
       "    .dataframe tbody tr th {\n",
       "        vertical-align: top;\n",
       "    }\n",
       "\n",
       "    .dataframe thead th {\n",
       "        text-align: right;\n",
       "    }\n",
       "</style>\n",
       "<table border=\"1\" class=\"dataframe\">\n",
       "  <thead>\n",
       "    <tr style=\"text-align: right;\">\n",
       "      <th></th>\n",
       "      <th>sentence1</th>\n",
       "      <th>sentence2</th>\n",
       "      <th>aspect</th>\n",
       "      <th>label</th>\n",
       "    </tr>\n",
       "  </thead>\n",
       "  <tbody>\n",
       "    <tr>\n",
       "      <th>0</th>\n",
       "      <td>further the paper makes several misleading cla...</td>\n",
       "      <td>the paper is rather well written but it strong...</td>\n",
       "      <td>clarity</td>\n",
       "      <td>n</td>\n",
       "    </tr>\n",
       "    <tr>\n",
       "      <th>1</th>\n",
       "      <td>4 .i like the key idea and the speedup is very...</td>\n",
       "      <td>review scores reflect this reviewers impressio...</td>\n",
       "      <td>originality</td>\n",
       "      <td>n</td>\n",
       "    </tr>\n",
       "    <tr>\n",
       "      <th>2</th>\n",
       "      <td>the idea to use sampling is nice but the analy...</td>\n",
       "      <td>review scores reflect this reviewers impressio...</td>\n",
       "      <td>originality</td>\n",
       "      <td>n</td>\n",
       "    </tr>\n",
       "    <tr>\n",
       "      <th>3</th>\n",
       "      <td>to summarize i think this paper give some empi...</td>\n",
       "      <td>in my opinion the overall quality of the paper...</td>\n",
       "      <td>soundness</td>\n",
       "      <td>n</td>\n",
       "    </tr>\n",
       "    <tr>\n",
       "      <th>4</th>\n",
       "      <td>to summarize i think this paper give some empi...</td>\n",
       "      <td>the context and relevance as well as the contr...</td>\n",
       "      <td>soundness</td>\n",
       "      <td>n</td>\n",
       "    </tr>\n",
       "  </tbody>\n",
       "</table>\n",
       "</div>"
      ],
      "text/plain": [
       "                                           sentence1  \\\n",
       "0  further the paper makes several misleading cla...   \n",
       "1  4 .i like the key idea and the speedup is very...   \n",
       "2  the idea to use sampling is nice but the analy...   \n",
       "3  to summarize i think this paper give some empi...   \n",
       "4  to summarize i think this paper give some empi...   \n",
       "\n",
       "                                           sentence2       aspect label  \n",
       "0  the paper is rather well written but it strong...      clarity     n  \n",
       "1  review scores reflect this reviewers impressio...  originality     n  \n",
       "2  review scores reflect this reviewers impressio...  originality     n  \n",
       "3  in my opinion the overall quality of the paper...    soundness     n  \n",
       "4  the context and relevance as well as the contr...    soundness     n  "
      ]
     },
     "execution_count": 19,
     "metadata": {},
     "output_type": "execute_result"
    }
   ],
   "source": [
    "final_df.head()"
   ]
  },
  {
   "cell_type": "code",
   "execution_count": 20,
   "metadata": {
    "execution": {
     "iopub.execute_input": "2024-12-02T12:02:10.886950Z",
     "iopub.status.busy": "2024-12-02T12:02:10.886426Z",
     "iopub.status.idle": "2024-12-02T12:02:11.152207Z",
     "shell.execute_reply": "2024-12-02T12:02:11.151390Z",
     "shell.execute_reply.started": "2024-12-02T12:02:10.886922Z"
    },
    "trusted": true
   },
   "outputs": [
    {
     "name": "stderr",
     "output_type": "stream",
     "text": [
      "/opt/conda/lib/python3.10/site-packages/transformers/optimization.py:591: FutureWarning: This implementation of AdamW is deprecated and will be removed in a future version. Use the PyTorch implementation torch.optim.AdamW instead, or set `no_deprecation_warning=True` to disable this warning\n",
      "  warnings.warn(\n"
     ]
    }
   ],
   "source": [
    "import torch\n",
    "from torch.utils.data import DataLoader\n",
    "import torch.nn as nn\n",
    "from transformers import AdamW\n",
    "from sklearn.model_selection import train_test_split\n",
    "\n",
    "# Hyperparameters\n",
    "BATCH_SIZE = 3\n",
    "EPOCHS = 3\n",
    "LEARNING_RATE = 2e-5\n",
    "MAX_LENGTH = 128\n",
    "\n",
    "# Split data into train and validation sets\n",
    "train_data, val_data = train_test_split(final_df, test_size=0.2, random_state=42)\n",
    "\n",
    "# Create datasets and loaders\n",
    "train_dataset = ContradictionDataset(train_data, tokenizer, max_length=MAX_LENGTH)\n",
    "val_dataset = ContradictionDataset(val_data, tokenizer, max_length=MAX_LENGTH)\n",
    "\n",
    "train_loader = DataLoader(train_dataset, batch_size=BATCH_SIZE, shuffle=True)\n",
    "val_loader = DataLoader(val_dataset, batch_size=BATCH_SIZE)\n",
    "\n",
    "# Model, loss function, and optimizer\n",
    "model = CrossEncoderCSR(model_name)\n",
    "model.to(device)\n",
    "criterion = nn.CrossEntropyLoss()\n",
    "optimizer = AdamW(model.parameters(), lr=LEARNING_RATE)"
   ]
  },
  {
   "cell_type": "code",
   "execution_count": 24,
   "metadata": {
    "execution": {
     "iopub.execute_input": "2024-12-02T13:03:37.406510Z",
     "iopub.status.busy": "2024-12-02T13:03:37.405893Z",
     "iopub.status.idle": "2024-12-02T13:03:37.421627Z",
     "shell.execute_reply": "2024-12-02T13:03:37.420775Z",
     "shell.execute_reply.started": "2024-12-02T13:03:37.406472Z"
    },
    "trusted": true
   },
   "outputs": [],
   "source": [
    "import torch\n",
    "import os\n",
    "from tqdm import tqdm  # Import tqdm for progress tracking\n",
    "\n",
    "def train_model(\n",
    "    model, train_loader, val_loader, optimizer, criterion, epochs, device, \n",
    "    save_path=\"model_checkpoints\", save_interval=1, checkpoint_path=None\n",
    "):\n",
    "    # Create directory for saving models\n",
    "    os.makedirs(save_path, exist_ok=True)\n",
    "\n",
    "    # Initialize epoch and loss for resuming training\n",
    "    start_epoch = 0\n",
    "\n",
    "    # Load checkpoint if provided\n",
    "    if checkpoint_path and os.path.exists(checkpoint_path):\n",
    "        print(f\"Loading checkpoint from {checkpoint_path}...\")\n",
    "        checkpoint = torch.load(checkpoint_path)\n",
    "        model.load_state_dict(checkpoint['model_state_dict'])\n",
    "        optimizer.load_state_dict(checkpoint['optimizer_state_dict'])\n",
    "        start_epoch = checkpoint['epoch'] + 1\n",
    "        print(f\"Resumed training from epoch {start_epoch}\")\n",
    "\n",
    "    for epoch in range(start_epoch, epochs):\n",
    "        model.train()\n",
    "        total_loss = 0\n",
    "        \n",
    "        print(f\"\\nEpoch {epoch + 1}/{epochs}\")\n",
    "        train_progress = tqdm(train_loader, desc=\"Training\", leave=False)  # Training progress bar\n",
    "        \n",
    "        for batch in train_progress:\n",
    "            optimizer.zero_grad()\n",
    "            \n",
    "            # Move batch to device\n",
    "            s1_input_ids = batch[\"s1_input_ids\"].to(device)\n",
    "            s1_attention_mask = batch[\"s1_attention_mask\"].to(dtype=torch.float).to(device)\n",
    "            s2_input_ids = batch[\"s2_input_ids\"].to(device)\n",
    "            s2_attention_mask = batch[\"s2_attention_mask\"].to(dtype=torch.float).to(device)\n",
    "            aspect_input_ids = batch[\"aspect_input_ids\"].to(device)\n",
    "            aspect_attention_mask = batch[\"aspect_attention_mask\"].to(dtype=torch.float).to(device)\n",
    "            labels = batch[\"label\"].to(device)\n",
    "            \n",
    "            # Forward pass\n",
    "            s1_rep, s2_rep = model(\n",
    "                s1_input_ids, s1_attention_mask, \n",
    "                s2_input_ids, s2_attention_mask, \n",
    "                aspect_input_ids, aspect_attention_mask\n",
    "            )\n",
    "            \n",
    "            # Compute similarity\n",
    "            logits = torch.cosine_similarity(s1_rep, s2_rep, dim=1).unsqueeze(1)\n",
    "            logits = torch.cat([1 - logits, logits], dim=1)  # Binary classification logits\n",
    "            \n",
    "            loss = criterion(logits, labels)\n",
    "            loss.backward()\n",
    "            optimizer.step()\n",
    "            \n",
    "            total_loss += loss.item()\n",
    "            train_progress.set_postfix(loss=loss.item())  # Update progress bar\n",
    "        \n",
    "        print(f\"Epoch {epoch + 1}/{epochs}, Loss: {total_loss / len(train_loader)}\")\n",
    "        \n",
    "        # Save checkpoint at specified intervals\n",
    "        if (epoch + 1) % save_interval == 0:\n",
    "            checkpoint_file = os.path.join(save_path, f\"model_epoch_{epoch + 1}.pth\")\n",
    "            torch.save({\n",
    "                'epoch': epoch,\n",
    "                'model_state_dict': model.state_dict(),\n",
    "                'optimizer_state_dict': optimizer.state_dict(),\n",
    "            }, checkpoint_file)\n",
    "            print(f\"Checkpoint saved at {checkpoint_file}\")\n",
    "        \n",
    "        # Validation\n",
    "        model.eval()\n",
    "        val_loss = 0\n",
    "        correct = 0\n",
    "        val_progress = tqdm(val_loader, desc=\"Validation\", leave=False)  # Validation progress bar\n",
    "        \n",
    "        with torch.no_grad():\n",
    "            for batch in val_progress:\n",
    "                s1_input_ids = batch[\"s1_input_ids\"].to(device)\n",
    "                s1_attention_mask = batch[\"s1_attention_mask\"].to(dtype=torch.float).to(device)\n",
    "                s2_input_ids = batch[\"s2_input_ids\"].to(device)\n",
    "                s2_attention_mask = batch[\"s2_attention_mask\"].to(dtype=torch.float).to(device)\n",
    "                aspect_input_ids = batch[\"aspect_input_ids\"].to(device)\n",
    "                aspect_attention_mask = batch[\"aspect_attention_mask\"].to(dtype=torch.float).to(device)\n",
    "                labels = batch[\"label\"].to(device)\n",
    "                \n",
    "                s1_rep, s2_rep = model(\n",
    "                    s1_input_ids, s1_attention_mask, \n",
    "                    s2_input_ids, s2_attention_mask, \n",
    "                    aspect_input_ids, aspect_attention_mask\n",
    "                )\n",
    "                \n",
    "                logits = torch.cosine_similarity(s1_rep, s2_rep, dim=1).unsqueeze(1)\n",
    "                logits = torch.cat([1 - logits, logits], dim=1)\n",
    "                \n",
    "                loss = criterion(logits, labels)\n",
    "                val_loss += loss.item()\n",
    "                \n",
    "                preds = torch.argmax(logits, dim=1)\n",
    "                correct += (preds == labels).sum().item()\n",
    "                val_progress.set_postfix(val_loss=loss.item())  # Update progress bar\n",
    "        \n",
    "        accuracy = correct / len(val_loader.dataset)\n",
    "        print(f\"Validation Loss: {val_loss / len(val_loader)}, Accuracy: {accuracy}\")\n",
    "    \n",
    "    # Save final model\n",
    "    final_model_file = os.path.join(save_path, \"final_model.pth\")\n",
    "    torch.save(model.state_dict(), final_model_file)\n",
    "    print(f\"Final model saved at {final_model_file}\")"
   ]
  },
  {
   "cell_type": "code",
   "execution_count": 25,
   "metadata": {
    "execution": {
     "iopub.execute_input": "2024-12-02T13:03:54.812818Z",
     "iopub.status.busy": "2024-12-02T13:03:54.811853Z",
     "iopub.status.idle": "2024-12-02T18:00:10.045274Z",
     "shell.execute_reply": "2024-12-02T18:00:10.044311Z",
     "shell.execute_reply.started": "2024-12-02T13:03:54.812784Z"
    },
    "trusted": true
   },
   "outputs": [
    {
     "name": "stdout",
     "output_type": "stream",
     "text": [
      "\n",
      "Epoch 1/10\n"
     ]
    },
    {
     "name": "stderr",
     "output_type": "stream",
     "text": [
      "                                                                           \r"
     ]
    },
    {
     "name": "stdout",
     "output_type": "stream",
     "text": [
      "Epoch 1/10, Loss: 0.5199278740246389\n",
      "Checkpoint saved at model_checkpoints/model_epoch_1.pth\n"
     ]
    },
    {
     "name": "stderr",
     "output_type": "stream",
     "text": [
      "                                                                               \r"
     ]
    },
    {
     "name": "stdout",
     "output_type": "stream",
     "text": [
      "Validation Loss: 0.5056030732573998, Accuracy: 0.7896821261073476\n",
      "\n",
      "Epoch 2/10\n"
     ]
    },
    {
     "name": "stderr",
     "output_type": "stream",
     "text": [
      "                                                                           \r"
     ]
    },
    {
     "name": "stdout",
     "output_type": "stream",
     "text": [
      "Epoch 2/10, Loss: 0.5210800939279598\n",
      "Checkpoint saved at model_checkpoints/model_epoch_2.pth\n"
     ]
    },
    {
     "name": "stderr",
     "output_type": "stream",
     "text": [
      "                                                                               \r"
     ]
    },
    {
     "name": "stdout",
     "output_type": "stream",
     "text": [
      "Validation Loss: 0.5452257129397196, Accuracy: 0.7304846274101094\n",
      "\n",
      "Epoch 3/10\n"
     ]
    },
    {
     "name": "stderr",
     "output_type": "stream",
     "text": [
      "                                                                           \r"
     ]
    },
    {
     "name": "stdout",
     "output_type": "stream",
     "text": [
      "Epoch 3/10, Loss: 0.5242511757173556\n",
      "Checkpoint saved at model_checkpoints/model_epoch_3.pth\n"
     ]
    },
    {
     "name": "stderr",
     "output_type": "stream",
     "text": [
      "                                                                               \r"
     ]
    },
    {
     "name": "stdout",
     "output_type": "stream",
     "text": [
      "Validation Loss: 0.5624324323940777, Accuracy: 0.7007816571130797\n",
      "\n",
      "Epoch 4/10\n"
     ]
    },
    {
     "name": "stderr",
     "output_type": "stream",
     "text": [
      "                                                                           \r"
     ]
    },
    {
     "name": "stdout",
     "output_type": "stream",
     "text": [
      "Epoch 4/10, Loss: 0.5099867963358324\n",
      "Checkpoint saved at model_checkpoints/model_epoch_4.pth\n"
     ]
    },
    {
     "name": "stderr",
     "output_type": "stream",
     "text": [
      "                                                                               \r"
     ]
    },
    {
     "name": "stdout",
     "output_type": "stream",
     "text": [
      "Validation Loss: 0.4847264990895269, Accuracy: 0.8215737363210005\n",
      "\n",
      "Epoch 5/10\n"
     ]
    },
    {
     "name": "stderr",
     "output_type": "stream",
     "text": [
      "                                                                           \r"
     ]
    },
    {
     "name": "stdout",
     "output_type": "stream",
     "text": [
      "Epoch 5/10, Loss: 0.490827322200148\n",
      "Checkpoint saved at model_checkpoints/model_epoch_5.pth\n"
     ]
    },
    {
     "name": "stderr",
     "output_type": "stream",
     "text": [
      "                                                                               \r"
     ]
    },
    {
     "name": "stdout",
     "output_type": "stream",
     "text": [
      "Validation Loss: 0.48199807186169935, Accuracy: 0.8205315268368942\n",
      "\n",
      "Epoch 6/10\n"
     ]
    },
    {
     "name": "stderr",
     "output_type": "stream",
     "text": [
      "                                                                           \r"
     ]
    },
    {
     "name": "stdout",
     "output_type": "stream",
     "text": [
      "Epoch 6/10, Loss: 0.4961587170723343\n",
      "Checkpoint saved at model_checkpoints/model_epoch_6.pth\n"
     ]
    },
    {
     "name": "stderr",
     "output_type": "stream",
     "text": [
      "                                                                               \r"
     ]
    },
    {
     "name": "stdout",
     "output_type": "stream",
     "text": [
      "Validation Loss: 0.5057416217155328, Accuracy: 0.8083376758728504\n",
      "\n",
      "Epoch 7/10\n"
     ]
    },
    {
     "name": "stderr",
     "output_type": "stream",
     "text": [
      "                                                                           \r"
     ]
    },
    {
     "name": "stdout",
     "output_type": "stream",
     "text": [
      "Epoch 7/10, Loss: 0.5033764623889369\n",
      "Checkpoint saved at model_checkpoints/model_epoch_7.pth\n"
     ]
    },
    {
     "name": "stderr",
     "output_type": "stream",
     "text": [
      "                                                                               \r"
     ]
    },
    {
     "name": "stdout",
     "output_type": "stream",
     "text": [
      "Validation Loss: 0.5102476445156249, Accuracy: 0.7933298593017196\n",
      "\n",
      "Epoch 8/10\n"
     ]
    },
    {
     "name": "stderr",
     "output_type": "stream",
     "text": [
      "                                                                           \r"
     ]
    },
    {
     "name": "stdout",
     "output_type": "stream",
     "text": [
      "Epoch 8/10, Loss: 0.502159209053964\n",
      "Checkpoint saved at model_checkpoints/model_epoch_8.pth\n"
     ]
    },
    {
     "name": "stderr",
     "output_type": "stream",
     "text": [
      "                                                                               \r"
     ]
    },
    {
     "name": "stdout",
     "output_type": "stream",
     "text": [
      "Validation Loss: 0.5005227898332841, Accuracy: 0.782803543512246\n",
      "\n",
      "Epoch 9/10\n"
     ]
    },
    {
     "name": "stderr",
     "output_type": "stream",
     "text": [
      "                                                                           \r"
     ]
    },
    {
     "name": "stdout",
     "output_type": "stream",
     "text": [
      "Epoch 9/10, Loss: 0.49756612687748597\n",
      "Checkpoint saved at model_checkpoints/model_epoch_9.pth\n"
     ]
    },
    {
     "name": "stderr",
     "output_type": "stream",
     "text": [
      "                                                                               \r"
     ]
    },
    {
     "name": "stdout",
     "output_type": "stream",
     "text": [
      "Validation Loss: 0.5270550387721391, Accuracy: 0.7750911933298593\n",
      "\n",
      "Epoch 10/10\n"
     ]
    },
    {
     "name": "stderr",
     "output_type": "stream",
     "text": [
      "                                                                           \r"
     ]
    },
    {
     "name": "stdout",
     "output_type": "stream",
     "text": [
      "Epoch 10/10, Loss: 0.4977144192719629\n",
      "Checkpoint saved at model_checkpoints/model_epoch_10.pth\n"
     ]
    },
    {
     "name": "stderr",
     "output_type": "stream",
     "text": [
      "                                                                               \r"
     ]
    },
    {
     "name": "stdout",
     "output_type": "stream",
     "text": [
      "Validation Loss: 0.6592679152864335, Accuracy: 0.6112558624283481\n",
      "Final model saved at model_checkpoints/final_model.pth\n"
     ]
    }
   ],
   "source": [
    "# Example usage\n",
    "train_model(\n",
    "    model, \n",
    "    train_loader, \n",
    "    val_loader, \n",
    "    optimizer, \n",
    "    criterion, \n",
    "    epochs=10, \n",
    "    device=device, \n",
    "    save_path=\"model_checkpoints\", \n",
    "    save_interval=1, \n",
    "    checkpoint_path=\"model_epoch_1.pth\"\n",
    ")\n"
   ]
  },
  {
   "cell_type": "code",
   "execution_count": 15,
   "metadata": {
    "execution": {
     "iopub.execute_input": "2024-12-02T07:44:39.608829Z",
     "iopub.status.busy": "2024-12-02T07:44:39.608613Z",
     "iopub.status.idle": "2024-12-02T07:44:39.627958Z",
     "shell.execute_reply": "2024-12-02T07:44:39.627185Z",
     "shell.execute_reply.started": "2024-12-02T07:44:39.608806Z"
    },
    "trusted": true
   },
   "outputs": [
    {
     "data": {
      "text/html": [
       "<div>\n",
       "<style scoped>\n",
       "    .dataframe tbody tr th:only-of-type {\n",
       "        vertical-align: middle;\n",
       "    }\n",
       "\n",
       "    .dataframe tbody tr th {\n",
       "        vertical-align: top;\n",
       "    }\n",
       "\n",
       "    .dataframe thead th {\n",
       "        text-align: right;\n",
       "    }\n",
       "</style>\n",
       "<table border=\"1\" class=\"dataframe\">\n",
       "  <thead>\n",
       "    <tr style=\"text-align: right;\">\n",
       "      <th></th>\n",
       "      <th>Review1</th>\n",
       "      <th>Review2</th>\n",
       "      <th>Aspect</th>\n",
       "      <th>Contradictory</th>\n",
       "    </tr>\n",
       "  </thead>\n",
       "  <tbody>\n",
       "    <tr>\n",
       "      <th>0</th>\n",
       "      <td>The usability of this Cloud Computing system i...</td>\n",
       "      <td>The usability of this Machine Learning system ...</td>\n",
       "      <td>usability</td>\n",
       "      <td>False</td>\n",
       "    </tr>\n",
       "    <tr>\n",
       "      <th>1</th>\n",
       "      <td>The usability of this AI system is remarkable.</td>\n",
       "      <td>The usability of this Cybersecurity system is ...</td>\n",
       "      <td>usability</td>\n",
       "      <td>True</td>\n",
       "    </tr>\n",
       "    <tr>\n",
       "      <th>2</th>\n",
       "      <td>The reliability of this AI system is excellent.</td>\n",
       "      <td>The reliability of this Cybersecurity system i...</td>\n",
       "      <td>reliability</td>\n",
       "      <td>False</td>\n",
       "    </tr>\n",
       "    <tr>\n",
       "      <th>3</th>\n",
       "      <td>The reliability of this Cloud Computing system...</td>\n",
       "      <td>The reliability of this Data Science system is...</td>\n",
       "      <td>reliability</td>\n",
       "      <td>True</td>\n",
       "    </tr>\n",
       "    <tr>\n",
       "      <th>4</th>\n",
       "      <td>The scalability of this Cybersecurity system i...</td>\n",
       "      <td>The scalability of this Cloud Computing system...</td>\n",
       "      <td>scalability</td>\n",
       "      <td>False</td>\n",
       "    </tr>\n",
       "  </tbody>\n",
       "</table>\n",
       "</div>"
      ],
      "text/plain": [
       "                                             Review1  \\\n",
       "0  The usability of this Cloud Computing system i...   \n",
       "1     The usability of this AI system is remarkable.   \n",
       "2    The reliability of this AI system is excellent.   \n",
       "3  The reliability of this Cloud Computing system...   \n",
       "4  The scalability of this Cybersecurity system i...   \n",
       "\n",
       "                                             Review2       Aspect  \\\n",
       "0  The usability of this Machine Learning system ...    usability   \n",
       "1  The usability of this Cybersecurity system is ...    usability   \n",
       "2  The reliability of this Cybersecurity system i...  reliability   \n",
       "3  The reliability of this Data Science system is...  reliability   \n",
       "4  The scalability of this Cloud Computing system...  scalability   \n",
       "\n",
       "   Contradictory  \n",
       "0          False  \n",
       "1           True  \n",
       "2          False  \n",
       "3           True  \n",
       "4          False  "
      ]
     },
     "execution_count": 15,
     "metadata": {},
     "output_type": "execute_result"
    }
   ],
   "source": [
    "test_df = pd.read_csv(\"/kaggle/input/test-review-pairs/review_pairs_dataset.csv\")\n",
    "test_df.head()"
   ]
  },
  {
   "cell_type": "code",
   "execution_count": 16,
   "metadata": {
    "execution": {
     "iopub.execute_input": "2024-12-02T07:44:40.505796Z",
     "iopub.status.busy": "2024-12-02T07:44:40.505122Z",
     "iopub.status.idle": "2024-12-02T07:44:40.510314Z",
     "shell.execute_reply": "2024-12-02T07:44:40.509367Z",
     "shell.execute_reply.started": "2024-12-02T07:44:40.505761Z"
    },
    "trusted": true
   },
   "outputs": [],
   "source": [
    "test_df.rename(columns={'Review1': 'sentence1', 'Review2': 'sentence2', 'Aspect': 'aspect', 'Contradictory': 'label'}, inplace=True)"
   ]
  },
  {
   "cell_type": "code",
   "execution_count": 17,
   "metadata": {
    "execution": {
     "iopub.execute_input": "2024-12-02T07:44:41.306573Z",
     "iopub.status.busy": "2024-12-02T07:44:41.306234Z",
     "iopub.status.idle": "2024-12-02T07:44:41.310643Z",
     "shell.execute_reply": "2024-12-02T07:44:41.309878Z",
     "shell.execute_reply.started": "2024-12-02T07:44:41.306543Z"
    },
    "trusted": true
   },
   "outputs": [],
   "source": [
    "def func(val):\n",
    "    if val:\n",
    "        return 'c'\n",
    "    else :\n",
    "        return 'n'"
   ]
  },
  {
   "cell_type": "code",
   "execution_count": 20,
   "metadata": {
    "execution": {
     "iopub.execute_input": "2024-12-02T07:45:10.611875Z",
     "iopub.status.busy": "2024-12-02T07:45:10.611542Z",
     "iopub.status.idle": "2024-12-02T07:45:10.616732Z",
     "shell.execute_reply": "2024-12-02T07:45:10.615869Z",
     "shell.execute_reply.started": "2024-12-02T07:45:10.611844Z"
    },
    "trusted": true
   },
   "outputs": [],
   "source": [
    "test_df['label'] = test_df['label'].apply(func)"
   ]
  },
  {
   "cell_type": "code",
   "execution_count": 22,
   "metadata": {
    "execution": {
     "iopub.execute_input": "2024-12-02T07:45:49.901597Z",
     "iopub.status.busy": "2024-12-02T07:45:49.901262Z",
     "iopub.status.idle": "2024-12-02T07:45:49.906215Z",
     "shell.execute_reply": "2024-12-02T07:45:49.905312Z",
     "shell.execute_reply.started": "2024-12-02T07:45:49.901569Z"
    },
    "trusted": true
   },
   "outputs": [],
   "source": [
    "# Create datasets and loaders\n",
    "test_data = ContradictionDataset(test_df, tokenizer, max_length=MAX_LENGTH)\n",
    "\n",
    "test_loader = DataLoader(test_data, batch_size=BATCH_SIZE, shuffle=True)"
   ]
  },
  {
   "cell_type": "code",
   "execution_count": 23,
   "metadata": {
    "execution": {
     "iopub.execute_input": "2024-12-02T07:45:50.812035Z",
     "iopub.status.busy": "2024-12-02T07:45:50.811706Z",
     "iopub.status.idle": "2024-12-02T07:46:32.817987Z",
     "shell.execute_reply": "2024-12-02T07:46:32.817117Z",
     "shell.execute_reply.started": "2024-12-02T07:45:50.812004Z"
    },
    "trusted": true
   },
   "outputs": [
    {
     "name": "stderr",
     "output_type": "stream",
     "text": [
      "Some weights of RobertaModel were not initialized from the model checkpoint at roberta-base and are newly initialized: ['roberta.pooler.dense.bias', 'roberta.pooler.dense.weight']\n",
      "You should probably TRAIN this model on a down-stream task to be able to use it for predictions and inference.\n",
      "/tmp/ipykernel_30/3700499873.py:7: FutureWarning: You are using `torch.load` with `weights_only=False` (the current default value), which uses the default pickle module implicitly. It is possible to construct malicious pickle data which will execute arbitrary code during unpickling (See https://github.com/pytorch/pytorch/blob/main/SECURITY.md#untrusted-models for more details). In a future release, the default value for `weights_only` will be flipped to `True`. This limits the functions that could be executed during unpickling. Arbitrary objects will no longer be allowed to be loaded via this mode unless they are explicitly allowlisted by the user via `torch.serialization.add_safe_globals`. We recommend you start setting `weights_only=True` for any use case where you don't have full control of the loaded file. Please open an issue on GitHub for any issues related to this experimental feature.\n",
      "  model.load_state_dict(torch.load(checkpoint_path, map_location=device))\n"
     ]
    },
    {
     "name": "stdout",
     "output_type": "stream",
     "text": [
      "Model loaded from /kaggle/input/dt_pairs/pytorch/default/1/final_model.pth\n"
     ]
    },
    {
     "name": "stderr",
     "output_type": "stream",
     "text": [
      "                                                          "
     ]
    },
    {
     "name": "stdout",
     "output_type": "stream",
     "text": [
      "Test Accuracy: 0.5000\n",
      "Precision: 0.5000\n",
      "Recall: 1.0000\n",
      "F1 Score: 0.6667\n"
     ]
    },
    {
     "name": "stderr",
     "output_type": "stream",
     "text": [
      "\r"
     ]
    }
   ],
   "source": [
    "import torch\n",
    "from sklearn.metrics import precision_recall_fscore_support, accuracy_score\n",
    "from tqdm import tqdm\n",
    "\n",
    "# Function to load the model\n",
    "def load_model(model, checkpoint_path, device):\n",
    "    model.load_state_dict(torch.load(checkpoint_path, map_location=device))\n",
    "    model.to(device)\n",
    "    model.eval()\n",
    "    print(f\"Model loaded from {checkpoint_path}\")\n",
    "\n",
    "# Function to evaluate the model\n",
    "def evaluate_model(model, test_loader, device):\n",
    "    model.eval()\n",
    "    all_preds = []\n",
    "    all_labels = []\n",
    "\n",
    "    test_progress = tqdm(test_loader, desc=\"Testing\", leave=False)  # Testing progress bar\n",
    "\n",
    "    with torch.no_grad():\n",
    "        for batch in test_progress:\n",
    "            # Move batch to device\n",
    "            s1_input_ids = batch[\"s1_input_ids\"].to(device)\n",
    "            s1_attention_mask = batch[\"s1_attention_mask\"].to(dtype=torch.float).to(device)\n",
    "            s2_input_ids = batch[\"s2_input_ids\"].to(device)\n",
    "            s2_attention_mask = batch[\"s2_attention_mask\"].to(dtype=torch.float).to(device)\n",
    "            aspect_input_ids = batch[\"aspect_input_ids\"].to(device)\n",
    "            aspect_attention_mask = batch[\"aspect_attention_mask\"].to(dtype=torch.float).to(device)\n",
    "            labels = batch[\"label\"].to(device)\n",
    "\n",
    "            # Forward pass\n",
    "            s1_rep, s2_rep = model(\n",
    "                s1_input_ids, s1_attention_mask, \n",
    "                s2_input_ids, s2_attention_mask, \n",
    "                aspect_input_ids, aspect_attention_mask\n",
    "            )\n",
    "            \n",
    "            # Compute similarity and logits\n",
    "            logits = torch.cosine_similarity(s1_rep, s2_rep, dim=1).unsqueeze(1)\n",
    "            logits = torch.cat([1 - logits, logits], dim=1)\n",
    "            \n",
    "            # Predictions\n",
    "            preds = torch.argmax(logits, dim=1)\n",
    "\n",
    "            all_preds.extend(preds.cpu().numpy())\n",
    "            all_labels.extend(labels.cpu().numpy())\n",
    "\n",
    "    # Calculate metrics\n",
    "    precision, recall, f1, _ = precision_recall_fscore_support(all_labels, all_preds, average=\"binary\")\n",
    "    accuracy = accuracy_score(all_labels, all_preds)\n",
    "\n",
    "    print(f\"Test Accuracy: {accuracy:.4f}\")\n",
    "    print(f\"Precision: {precision:.4f}\")\n",
    "    print(f\"Recall: {recall:.4f}\")\n",
    "    print(f\"F1 Score: {f1:.4f}\")\n",
    "\n",
    "    return precision, recall, f1, accuracy\n",
    "\n",
    "# Example Usage\n",
    "# Replace `YourModelClass` with your actual model class\n",
    "# Replace `test_loader` with your DataLoader for the test dataset\n",
    "# Replace `model_checkpoint.pth` with your actual .pth file path\n",
    "\n",
    "device = torch.device(\"cuda\" if torch.cuda.is_available() else \"cpu\")\n",
    "model = CrossEncoderCSR()  # Initialize your model architecture\n",
    "checkpoint_path = \"/kaggle/input/dt_pairs/pytorch/default/1/final_model.pth\"\n",
    "\n",
    "# Load model weights\n",
    "load_model(model, checkpoint_path, device)\n",
    "\n",
    "# Evaluate the model\n",
    "precision, recall, f1, accuracy = evaluate_model(model, test_loader, device)"
   ]
  },
  {
   "cell_type": "code",
   "execution_count": null,
   "metadata": {
    "trusted": true
   },
   "outputs": [],
   "source": []
  },
  {
   "cell_type": "code",
   "execution_count": null,
   "metadata": {
    "trusted": true
   },
   "outputs": [],
   "source": []
  },
  {
   "cell_type": "code",
   "execution_count": null,
   "metadata": {
    "trusted": true
   },
   "outputs": [],
   "source": []
  },
  {
   "cell_type": "code",
   "execution_count": null,
   "metadata": {
    "trusted": true
   },
   "outputs": [],
   "source": []
  },
  {
   "cell_type": "code",
   "execution_count": 22,
   "metadata": {
    "execution": {
     "iopub.execute_input": "2024-12-02T06:37:20.417475Z",
     "iopub.status.busy": "2024-12-02T06:37:20.417100Z",
     "iopub.status.idle": "2024-12-02T06:37:22.188115Z",
     "shell.execute_reply": "2024-12-02T06:37:22.187212Z",
     "shell.execute_reply.started": "2024-12-02T06:37:20.417446Z"
    },
    "trusted": true
   },
   "outputs": [
    {
     "name": "stderr",
     "output_type": "stream",
     "text": [
      "Some weights of RobertaModel were not initialized from the model checkpoint at roberta-base and are newly initialized: ['roberta.pooler.dense.bias', 'roberta.pooler.dense.weight']\n",
      "You should probably TRAIN this model on a down-stream task to be able to use it for predictions and inference.\n"
     ]
    },
    {
     "name": "stdout",
     "output_type": "stream",
     "text": [
      "Similarity between 'The cat sit on mat' and 'The mat is covered by cat': 0.9815711975097656\n"
     ]
    }
   ],
   "source": [
    "def test_cross_encoder_csr():\n",
    "    # Load tokenizer\n",
    "    tokenizer = AutoTokenizer.from_pretrained(\"roberta-base\")\n",
    "    \n",
    "    # Create model\n",
    "    model = CrossEncoderCSR(model_name=\"roberta-base\")\n",
    "    \n",
    "    # Prepare test inputs\n",
    "    sentences1 = [\"The cat sit on mat\"]\n",
    "    sentences2 = [\"The mat is covered by cat\"]\n",
    "    context = [\"Test123\"]\n",
    "    \n",
    "    # Tokenize inputs\n",
    "    s1_inputs = tokenizer(sentences1, padding='max_length', truncation=True, return_tensors=\"pt\", max_length=512)\n",
    "    s2_inputs = tokenizer(sentences2, padding='max_length', truncation=True, return_tensors=\"pt\", max_length=512)\n",
    "    c_inputs = tokenizer(context, padding='max_length', truncation=True, return_tensors=\"pt\", max_length=512)\n",
    "    \n",
    "    # Forward pass\n",
    "    with torch.no_grad():\n",
    "        s1_hidden, s2_hidden = model(\n",
    "            s1_input_ids=s1_inputs['input_ids'], \n",
    "            s1_attention_mask=s1_inputs['attention_mask'].to(dtype=torch.float),\n",
    "            s2_input_ids=s2_inputs['input_ids'], \n",
    "            s2_attention_mask=s2_inputs['attention_mask'].to(dtype=torch.float),\n",
    "            c_input_ids=c_inputs['input_ids'], \n",
    "            c_attention_mask=c_inputs['attention_mask'].to(dtype=torch.float)\n",
    "        )\n",
    "    \n",
    "    # print(\"S1 Hidden States Shape:\", s1_hidden)\n",
    "    # print(\"S2 Hidden States Shape:\", s2_hidden)\n",
    "    \n",
    "    # Optional: Compute cosine similarity\n",
    "    def cosine_similarity(a, b):\n",
    "        return torch.nn.functional.cosine_similarity(a, b, dim=-1)\n",
    "    \n",
    "    # Compute and print similarity\n",
    "    for i in range(len(sentences1)):\n",
    "        sim = cosine_similarity(s1_hidden[i], s2_hidden[i])\n",
    "        print(f\"Similarity between '{sentences1[i]}' and '{sentences2[i]}': {sim.item()}\")\n",
    "\n",
    "if __name__ == \"__main__\":\n",
    "    test_cross_encoder_csr()"
   ]
  },
  {
   "cell_type": "code",
   "execution_count": 14,
   "metadata": {
    "execution": {
     "iopub.execute_input": "2024-11-27T17:29:47.422468Z",
     "iopub.status.busy": "2024-11-27T17:29:47.421562Z",
     "iopub.status.idle": "2024-11-27T17:29:47.429726Z",
     "shell.execute_reply": "2024-11-27T17:29:47.428615Z",
     "shell.execute_reply.started": "2024-11-27T17:29:47.422422Z"
    },
    "trusted": true
   },
   "outputs": [
    {
     "name": "stdout",
     "output_type": "stream",
     "text": [
      "tensor([[1],\n",
      "        [2],\n",
      "        [3]])\n"
     ]
    }
   ],
   "source": [
    "import torch\n",
    "\n",
    "# Original tensor\n",
    "x = torch.tensor([1, 2, 3])\n",
    "\n",
    "# Add a new dimension at dim=0\n",
    "x_unsqueezed = x.unsqueeze(0)\n",
    "\n",
    "print(x_unsqueezed)"
   ]
  },
  {
   "cell_type": "code",
   "execution_count": null,
   "metadata": {
    "trusted": true
   },
   "outputs": [],
   "source": []
  }
 ],
 "metadata": {
  "kaggle": {
   "accelerator": "nvidiaTeslaT4",
   "dataSources": [
    {
     "datasetId": 6194088,
     "sourceId": 10052683,
     "sourceType": "datasetVersion"
    },
    {
     "datasetId": 6209432,
     "sourceId": 10073818,
     "sourceType": "datasetVersion"
    },
    {
     "isSourceIdPinned": true,
     "modelId": 180383,
     "modelInstanceId": 157984,
     "sourceId": 185318,
     "sourceType": "modelInstanceVersion"
    }
   ],
   "dockerImageVersionId": 30787,
   "isGpuEnabled": true,
   "isInternetEnabled": true,
   "language": "python",
   "sourceType": "notebook"
  },
  "kernelspec": {
   "display_name": "Python 3",
   "language": "python",
   "name": "python3"
  },
  "language_info": {
   "codemirror_mode": {
    "name": "ipython",
    "version": 3
   },
   "file_extension": ".py",
   "mimetype": "text/x-python",
   "name": "python",
   "nbconvert_exporter": "python",
   "pygments_lexer": "ipython3",
   "version": "3.10.14"
  }
 },
 "nbformat": 4,
 "nbformat_minor": 4
}
